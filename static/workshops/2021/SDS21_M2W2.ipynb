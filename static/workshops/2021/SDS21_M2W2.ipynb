{
  "nbformat": 4,
  "nbformat_minor": 0,
  "metadata": {
    "colab": {
      "name": "SDS21 M2W2.ipynb",
      "provenance": [],
      "authorship_tag": "ABX9TyO7438GTqn4iem7JigerxDq",
      "include_colab_link": true
    },
    "kernelspec": {
      "name": "python3",
      "display_name": "Python 3"
    },
    "language_info": {
      "name": "python"
    }
  },
  "cells": [
    {
      "cell_type": "markdown",
      "metadata": {
        "id": "view-in-github",
        "colab_type": "text"
      },
      "source": [
        "<a href=\"https://colab.research.google.com/github/SDS-AAU/SDS-2021/blob/master/static/workshops/2021/SDS21_M2W2.ipynb\" target=\"_parent\"><img src=\"https://colab.research.google.com/assets/colab-badge.svg\" alt=\"Open In Colab\"/></a>"
      ]
    },
    {
      "cell_type": "code",
      "metadata": {
        "id": "Ck35ovgKl-E0"
      },
      "source": [
        "!pip install tweet-preprocessor -qq"
      ],
      "execution_count": 7,
      "outputs": []
    },
    {
      "cell_type": "code",
      "metadata": {
        "id": "wsImrotrbRA2"
      },
      "source": [
        "import pandas as pd\n",
        "import preprocessor as prepro\n",
        "import spacy"
      ],
      "execution_count": 1,
      "outputs": []
    },
    {
      "cell_type": "markdown",
      "metadata": {
        "id": "jeNCAxWj3Rn-"
      },
      "source": [
        "load up data"
      ]
    },
    {
      "cell_type": "code",
      "metadata": {
        "id": "o-MQiLPgbZS5"
      },
      "source": [
        "data_congress = pd.read_json('https://github.com/SDS-AAU/SDS-master/raw/master/M2/data/pol_tweets.gz')"
      ],
      "execution_count": 2,
      "outputs": []
    },
    {
      "cell_type": "code",
      "metadata": {
        "colab": {
          "base_uri": "https://localhost:8080/",
          "height": 417
        },
        "id": "Cskw1FNRbeHX",
        "outputId": "1f64feda-2bd8-44d2-b062-d742851c61c4"
      },
      "source": [
        "data_congress"
      ],
      "execution_count": 3,
      "outputs": [
        {
          "output_type": "execute_result",
          "data": {
            "text/html": [
              "<div>\n",
              "<style scoped>\n",
              "    .dataframe tbody tr th:only-of-type {\n",
              "        vertical-align: middle;\n",
              "    }\n",
              "\n",
              "    .dataframe tbody tr th {\n",
              "        vertical-align: top;\n",
              "    }\n",
              "\n",
              "    .dataframe thead th {\n",
              "        text-align: right;\n",
              "    }\n",
              "</style>\n",
              "<table border=\"1\" class=\"dataframe\">\n",
              "  <thead>\n",
              "    <tr style=\"text-align: right;\">\n",
              "      <th></th>\n",
              "      <th>text</th>\n",
              "      <th>labels</th>\n",
              "    </tr>\n",
              "  </thead>\n",
              "  <tbody>\n",
              "    <tr>\n",
              "      <th>340675</th>\n",
              "      <td>RT @GreenBeretFound Today we remember Sgt. 1st...</td>\n",
              "      <td>0</td>\n",
              "    </tr>\n",
              "    <tr>\n",
              "      <th>289492</th>\n",
              "      <td>Yes, yes, yes, yes and yes. 😷 #JerseyStrong 💪🏾...</td>\n",
              "      <td>1</td>\n",
              "    </tr>\n",
              "    <tr>\n",
              "      <th>371088</th>\n",
              "      <td>Made new friends this afternoon delivering mas...</td>\n",
              "      <td>1</td>\n",
              "    </tr>\n",
              "    <tr>\n",
              "      <th>82212</th>\n",
              "      <td>RT @TXMilitary Happening TODAY: Pilots with th...</td>\n",
              "      <td>0</td>\n",
              "    </tr>\n",
              "    <tr>\n",
              "      <th>476047</th>\n",
              "      <td>RT @SteveScalise President Trump's legal team ...</td>\n",
              "      <td>0</td>\n",
              "    </tr>\n",
              "    <tr>\n",
              "      <th>...</th>\n",
              "      <td>...</td>\n",
              "      <td>...</td>\n",
              "    </tr>\n",
              "    <tr>\n",
              "      <th>61499</th>\n",
              "      <td>Outrageous.\\n\\nBrave health care workers are p...</td>\n",
              "      <td>0</td>\n",
              "    </tr>\n",
              "    <tr>\n",
              "      <th>185562</th>\n",
              "      <td>RT @dskolnick .@RepTimRyan proposes up to $3K ...</td>\n",
              "      <td>1</td>\n",
              "    </tr>\n",
              "    <tr>\n",
              "      <th>354040</th>\n",
              "      <td>It is clear that the #HeroesAct will help tens...</td>\n",
              "      <td>1</td>\n",
              "    </tr>\n",
              "    <tr>\n",
              "      <th>708686</th>\n",
              "      <td>Democrats are talking about Bolton and Mulvane...</td>\n",
              "      <td>0</td>\n",
              "    </tr>\n",
              "    <tr>\n",
              "      <th>568643</th>\n",
              "      <td>The President claims his administration is, \"d...</td>\n",
              "      <td>1</td>\n",
              "    </tr>\n",
              "  </tbody>\n",
              "</table>\n",
              "<p>50000 rows × 2 columns</p>\n",
              "</div>"
            ],
            "text/plain": [
              "                                                     text  labels\n",
              "340675  RT @GreenBeretFound Today we remember Sgt. 1st...       0\n",
              "289492  Yes, yes, yes, yes and yes. 😷 #JerseyStrong 💪🏾...       1\n",
              "371088  Made new friends this afternoon delivering mas...       1\n",
              "82212   RT @TXMilitary Happening TODAY: Pilots with th...       0\n",
              "476047  RT @SteveScalise President Trump's legal team ...       0\n",
              "...                                                   ...     ...\n",
              "61499   Outrageous.\\n\\nBrave health care workers are p...       0\n",
              "185562  RT @dskolnick .@RepTimRyan proposes up to $3K ...       1\n",
              "354040  It is clear that the #HeroesAct will help tens...       1\n",
              "708686  Democrats are talking about Bolton and Mulvane...       0\n",
              "568643  The President claims his administration is, \"d...       1\n",
              "\n",
              "[50000 rows x 2 columns]"
            ]
          },
          "metadata": {},
          "execution_count": 3
        }
      ]
    },
    {
      "cell_type": "markdown",
      "metadata": {
        "id": "7KHx890r3V5o"
      },
      "source": [
        "preprocessing"
      ]
    },
    {
      "cell_type": "code",
      "metadata": {
        "id": "9xztOvSUliYX"
      },
      "source": [
        "# prepro settings\n",
        "prepro.set_options(prepro.OPT.URL, prepro.OPT.EMOJI, prepro.OPT.NUMBER, prepro.OPT.RESERVED, prepro.OPT.MENTION, prepro.OPT.SMILEY)"
      ],
      "execution_count": 17,
      "outputs": []
    },
    {
      "cell_type": "code",
      "metadata": {
        "id": "9fAZT2cPn_Tk"
      },
      "source": [
        "data_congress['text_clean'] = data_congress['text'].map(lambda t: prepro.clean(t))"
      ],
      "execution_count": 18,
      "outputs": []
    },
    {
      "cell_type": "code",
      "metadata": {
        "id": "v4B5fAz7oU6r"
      },
      "source": [
        "data_congress['text_clean'] = data_congress['text_clean'].str.replace('#','')"
      ],
      "execution_count": 20,
      "outputs": []
    },
    {
      "cell_type": "markdown",
      "metadata": {
        "id": "Z04Cl1C13pB2"
      },
      "source": [
        "bootstrap dictionary with spacy"
      ]
    },
    {
      "cell_type": "code",
      "metadata": {
        "id": "QZtIiHqGr61S"
      },
      "source": [
        "nlp = spacy.load(\"en\")"
      ],
      "execution_count": null,
      "outputs": []
    },
    {
      "cell_type": "code",
      "metadata": {
        "id": "_dSfkR4stW9J"
      },
      "source": [
        "tokens = []\n",
        "\n",
        "for tweet in nlp.pipe(data_congress.sample(1000)['text_clean']):\n",
        "  tweet_tok = [token.lemma_.lower() for token in tweet if token.pos_ in ['NOUN', 'PROPN', 'ADJ', 'ADV'] and not token.is_stop] \n",
        "  tokens.extend(tweet_tok)"
      ],
      "execution_count": null,
      "outputs": []
    },
    {
      "cell_type": "code",
      "metadata": {
        "id": "oV8LEVvOuIFR"
      },
      "source": [
        "bootstrap_dictionary = list(set(tokens))"
      ],
      "execution_count": null,
      "outputs": []
    },
    {
      "cell_type": "code",
      "metadata": {
        "id": "8kv5b2-0p72v"
      },
      "source": [
        "from sklearn.feature_extraction.text import TfidfVectorizer\n",
        "\n",
        "vectorizer = TfidfVectorizer(vocabulary=bootstrap_dictionary)\n",
        "X = vectorizer.fit_transform(data_congress['text_clean'])"
      ],
      "execution_count": 52,
      "outputs": []
    },
    {
      "cell_type": "code",
      "metadata": {
        "colab": {
          "base_uri": "https://localhost:8080/"
        },
        "id": "FG_3m-4HqCTj",
        "outputId": "0c0d0b55-7842-4549-ac4c-c859c8fc81da"
      },
      "source": [
        "X.shape"
      ],
      "execution_count": 53,
      "outputs": [
        {
          "output_type": "execute_result",
          "data": {
            "text/plain": [
              "(50000, 4092)"
            ]
          },
          "metadata": {},
          "execution_count": 53
        }
      ]
    },
    {
      "cell_type": "markdown",
      "metadata": {
        "id": "zqQpb1cf3zOp"
      },
      "source": [
        "repack preprocessing into a function"
      ]
    },
    {
      "cell_type": "code",
      "metadata": {
        "id": "btjRZvnyw2Qw"
      },
      "source": [
        "# requires instantiated vectorizer e.g. TFIDF\n",
        "\n",
        "def preprocessTweets(data_tweets):\n",
        "  clean_text = data_tweets.map(lambda t: prepro.clean(t))\n",
        "  clean_text = clean_text.str.replace('#','')\n",
        "  return vectorizer.transform(clean_text)"
      ],
      "execution_count": 62,
      "outputs": []
    },
    {
      "cell_type": "markdown",
      "metadata": {
        "id": "9tzCpPua34kW"
      },
      "source": [
        "SML part"
      ]
    },
    {
      "cell_type": "code",
      "metadata": {
        "id": "f8-mmu8oqqy2"
      },
      "source": [
        "y = data_congress['labels']"
      ],
      "execution_count": 54,
      "outputs": []
    },
    {
      "cell_type": "code",
      "metadata": {
        "id": "AJ7v6wUvq55Z"
      },
      "source": [
        "from sklearn.model_selection import train_test_split\n",
        "X_train, X_test, y_train, y_test = train_test_split(X, y, test_size = 0.2, random_state = 21)"
      ],
      "execution_count": 55,
      "outputs": []
    },
    {
      "cell_type": "code",
      "metadata": {
        "colab": {
          "base_uri": "https://localhost:8080/"
        },
        "id": "L52Z2kunq9h2",
        "outputId": "b61c5aef-583a-4a71-c05c-01e0fa557b59"
      },
      "source": [
        "from sklearn.linear_model import LogisticRegression\n",
        "model = LogisticRegression(multi_class=\"ovr\") # since we have 3 classes\n",
        "model.fit(X_train, y_train)"
      ],
      "execution_count": 56,
      "outputs": [
        {
          "output_type": "stream",
          "name": "stderr",
          "text": [
            "/usr/local/lib/python3.7/dist-packages/sklearn/linear_model/_logistic.py:940: ConvergenceWarning: lbfgs failed to converge (status=1):\n",
            "STOP: TOTAL NO. of ITERATIONS REACHED LIMIT.\n",
            "\n",
            "Increase the number of iterations (max_iter) or scale the data as shown in:\n",
            "    https://scikit-learn.org/stable/modules/preprocessing.html\n",
            "Please also refer to the documentation for alternative solver options:\n",
            "    https://scikit-learn.org/stable/modules/linear_model.html#logistic-regression\n",
            "  extra_warning_msg=_LOGISTIC_SOLVER_CONVERGENCE_MSG)\n"
          ]
        },
        {
          "output_type": "execute_result",
          "data": {
            "text/plain": [
              "LogisticRegression(C=1.0, class_weight=None, dual=False, fit_intercept=True,\n",
              "                   intercept_scaling=1, l1_ratio=None, max_iter=100,\n",
              "                   multi_class='ovr', n_jobs=None, penalty='l2',\n",
              "                   random_state=None, solver='lbfgs', tol=0.0001, verbose=0,\n",
              "                   warm_start=False)"
            ]
          },
          "metadata": {},
          "execution_count": 56
        }
      ]
    },
    {
      "cell_type": "code",
      "metadata": {
        "colab": {
          "base_uri": "https://localhost:8080/"
        },
        "id": "2rxu7racrCa4",
        "outputId": "fa835b73-37b8-40a9-b117-a06415fe9568"
      },
      "source": [
        "model.score(X_test, y_test)"
      ],
      "execution_count": 78,
      "outputs": [
        {
          "output_type": "execute_result",
          "data": {
            "text/plain": [
              "0.7538"
            ]
          },
          "metadata": {},
          "execution_count": 78
        }
      ]
    },
    {
      "cell_type": "markdown",
      "metadata": {
        "id": "HcutbwAf4Ied"
      },
      "source": [
        "apply to new data"
      ]
    },
    {
      "cell_type": "code",
      "metadata": {
        "id": "Rzpi2DSObe_x"
      },
      "source": [
        "data_tweets = pd.read_json('https://github.com/SDS-AAU/SDS-master/raw/master/M2/data/pres_debate_2020.gz')"
      ],
      "execution_count": 5,
      "outputs": []
    },
    {
      "cell_type": "code",
      "metadata": {
        "colab": {
          "base_uri": "https://localhost:8080/",
          "height": 941
        },
        "id": "7VA2PNUqcFD0",
        "outputId": "564a578c-52db-4707-bc14-4ba8c3d4b03f"
      },
      "source": [
        "data_tweets"
      ],
      "execution_count": 6,
      "outputs": [
        {
          "output_type": "execute_result",
          "data": {
            "text/html": [
              "<div>\n",
              "<style scoped>\n",
              "    .dataframe tbody tr th:only-of-type {\n",
              "        vertical-align: middle;\n",
              "    }\n",
              "\n",
              "    .dataframe tbody tr th {\n",
              "        vertical-align: top;\n",
              "    }\n",
              "\n",
              "    .dataframe thead th {\n",
              "        text-align: right;\n",
              "    }\n",
              "</style>\n",
              "<table border=\"1\" class=\"dataframe\">\n",
              "  <thead>\n",
              "    <tr style=\"text-align: right;\">\n",
              "      <th></th>\n",
              "      <th>id</th>\n",
              "      <th>conversation_id</th>\n",
              "      <th>created_at</th>\n",
              "      <th>date</th>\n",
              "      <th>timezone</th>\n",
              "      <th>place</th>\n",
              "      <th>tweet</th>\n",
              "      <th>language</th>\n",
              "      <th>hashtags</th>\n",
              "      <th>cashtags</th>\n",
              "      <th>user_id</th>\n",
              "      <th>user_id_str</th>\n",
              "      <th>username</th>\n",
              "      <th>name</th>\n",
              "      <th>day</th>\n",
              "      <th>hour</th>\n",
              "      <th>link</th>\n",
              "      <th>urls</th>\n",
              "      <th>photos</th>\n",
              "      <th>video</th>\n",
              "      <th>thumbnail</th>\n",
              "      <th>nlikes</th>\n",
              "      <th>nreplies</th>\n",
              "      <th>nretweets</th>\n",
              "      <th>quote_url</th>\n",
              "      <th>search</th>\n",
              "      <th>near</th>\n",
              "      <th>geo</th>\n",
              "      <th>source</th>\n",
              "      <th>reply_to</th>\n",
              "      <th>translate</th>\n",
              "      <th>trans_src</th>\n",
              "      <th>trans_dest</th>\n",
              "    </tr>\n",
              "  </thead>\n",
              "  <tbody>\n",
              "    <tr>\n",
              "      <th>0</th>\n",
              "      <td>1318944772183281664</td>\n",
              "      <td>1318944772183281664</td>\n",
              "      <td>2020-10-21 15:58:33</td>\n",
              "      <td>2020-10-21 15:58:33</td>\n",
              "      <td>0</td>\n",
              "      <td></td>\n",
              "      <td>Still time to register: Students can join the ...</td>\n",
              "      <td>en</td>\n",
              "      <td>[presidentialdebate2020]</td>\n",
              "      <td>[]</td>\n",
              "      <td>1130857348921036802</td>\n",
              "      <td>1130857348921036800</td>\n",
              "      <td>UVADemocracy</td>\n",
              "      <td>UVA Democracy Initiative</td>\n",
              "      <td>3</td>\n",
              "      <td>15</td>\n",
              "      <td>https://twitter.com/UVADemocracy/status/131894...</td>\n",
              "      <td>[https://bit.ly/349NTIU]</td>\n",
              "      <td>[https://pbs.twimg.com/media/Ek3UXC1X0AAw47D.png]</td>\n",
              "      <td>1</td>\n",
              "      <td>https://pbs.twimg.com/media/Ek3UXC1X0AAw47D.png</td>\n",
              "      <td>2</td>\n",
              "      <td>0</td>\n",
              "      <td>2</td>\n",
              "      <td></td>\n",
              "      <td>PresidentialDebate2020</td>\n",
              "      <td></td>\n",
              "      <td></td>\n",
              "      <td></td>\n",
              "      <td>{'user_id': None, 'username': None}</td>\n",
              "      <td></td>\n",
              "      <td></td>\n",
              "      <td></td>\n",
              "    </tr>\n",
              "    <tr>\n",
              "      <th>1</th>\n",
              "      <td>1318938583122743296</td>\n",
              "      <td>1318938583122743296</td>\n",
              "      <td>2020-10-21 15:33:57</td>\n",
              "      <td>2020-10-21 15:33:57</td>\n",
              "      <td>0</td>\n",
              "      <td></td>\n",
              "      <td>Be prepared for Trump to railroad Thursday’s d...</td>\n",
              "      <td>en</td>\n",
              "      <td>[presidentialdebate2020]</td>\n",
              "      <td>[]</td>\n",
              "      <td>243363569</td>\n",
              "      <td>243363569</td>\n",
              "      <td>kevinjguest</td>\n",
              "      <td>Kevin Guest</td>\n",
              "      <td>3</td>\n",
              "      <td>15</td>\n",
              "      <td>https://twitter.com/kevinjguest/status/1318938...</td>\n",
              "      <td>[]</td>\n",
              "      <td>[]</td>\n",
              "      <td>0</td>\n",
              "      <td></td>\n",
              "      <td>0</td>\n",
              "      <td>0</td>\n",
              "      <td>0</td>\n",
              "      <td>https://twitter.com/donaldjtrumpjr/status/1318...</td>\n",
              "      <td>PresidentialDebate2020</td>\n",
              "      <td></td>\n",
              "      <td></td>\n",
              "      <td></td>\n",
              "      <td>{'user_id': None, 'username': None}</td>\n",
              "      <td></td>\n",
              "      <td></td>\n",
              "      <td></td>\n",
              "    </tr>\n",
              "    <tr>\n",
              "      <th>2</th>\n",
              "      <td>1318932554897031168</td>\n",
              "      <td>1318932554897031168</td>\n",
              "      <td>2020-10-21 15:10:00</td>\n",
              "      <td>2020-10-21 15:10:00</td>\n",
              "      <td>0</td>\n",
              "      <td></td>\n",
              "      <td>Join us tomorrow from 5-8pm as @michaelpleahy ...</td>\n",
              "      <td>en</td>\n",
              "      <td>[presidentialdebate2020]</td>\n",
              "      <td>[]</td>\n",
              "      <td>26819436</td>\n",
              "      <td>26819436</td>\n",
              "      <td>TalkradioWLAC</td>\n",
              "      <td>Talkradio WLAC</td>\n",
              "      <td>3</td>\n",
              "      <td>15</td>\n",
              "      <td>https://twitter.com/TalkradioWLAC/status/13189...</td>\n",
              "      <td>[https://wlac.iheart.com/calendar/event/5f8df3...</td>\n",
              "      <td>[]</td>\n",
              "      <td>0</td>\n",
              "      <td></td>\n",
              "      <td>0</td>\n",
              "      <td>0</td>\n",
              "      <td>0</td>\n",
              "      <td></td>\n",
              "      <td>PresidentialDebate2020</td>\n",
              "      <td></td>\n",
              "      <td></td>\n",
              "      <td></td>\n",
              "      <td>{'user_id': None, 'username': None}</td>\n",
              "      <td></td>\n",
              "      <td></td>\n",
              "      <td></td>\n",
              "    </tr>\n",
              "    <tr>\n",
              "      <th>3</th>\n",
              "      <td>1318928783169245184</td>\n",
              "      <td>1318928783169245184</td>\n",
              "      <td>2020-10-21 14:55:01</td>\n",
              "      <td>2020-10-21 14:55:01</td>\n",
              "      <td>0</td>\n",
              "      <td></td>\n",
              "      <td>Wanna bet #ProudBoys comes up #PresidentialDeb...</td>\n",
              "      <td>en</td>\n",
              "      <td>[proudboys, presidentialdebate2020]</td>\n",
              "      <td>[]</td>\n",
              "      <td>298018860</td>\n",
              "      <td>298018860</td>\n",
              "      <td>PBPoliticsFins</td>\n",
              "      <td>Antonio Fins</td>\n",
              "      <td>3</td>\n",
              "      <td>14</td>\n",
              "      <td>https://twitter.com/PBPoliticsFins/status/1318...</td>\n",
              "      <td>[https://www.palmbeachpost.com/story/news/2020...</td>\n",
              "      <td>[]</td>\n",
              "      <td>0</td>\n",
              "      <td></td>\n",
              "      <td>0</td>\n",
              "      <td>0</td>\n",
              "      <td>0</td>\n",
              "      <td></td>\n",
              "      <td>PresidentialDebate2020</td>\n",
              "      <td></td>\n",
              "      <td></td>\n",
              "      <td></td>\n",
              "      <td>{'user_id': None, 'username': None}</td>\n",
              "      <td></td>\n",
              "      <td></td>\n",
              "      <td></td>\n",
              "    </tr>\n",
              "    <tr>\n",
              "      <th>4</th>\n",
              "      <td>1318927150247018496</td>\n",
              "      <td>1318927150247018496</td>\n",
              "      <td>2020-10-21 14:48:31</td>\n",
              "      <td>2020-10-21 14:48:31</td>\n",
              "      <td>0</td>\n",
              "      <td></td>\n",
              "      <td>RT College Tour @BelmontUniv was spotless. Gor...</td>\n",
              "      <td>en</td>\n",
              "      <td>[musiccity, presidentialdebate2020]</td>\n",
              "      <td>[]</td>\n",
              "      <td>4159192877</td>\n",
              "      <td>4159192877</td>\n",
              "      <td>12thSouth</td>\n",
              "      <td>12th South</td>\n",
              "      <td>3</td>\n",
              "      <td>14</td>\n",
              "      <td>https://twitter.com/12thSouth/status/131892715...</td>\n",
              "      <td>[]</td>\n",
              "      <td>[https://pbs.twimg.com/media/Ek3CBOhXYAIpo8C.j...</td>\n",
              "      <td>1</td>\n",
              "      <td>https://pbs.twimg.com/media/Ek3CBOhXYAIpo8C.jpg</td>\n",
              "      <td>0</td>\n",
              "      <td>0</td>\n",
              "      <td>0</td>\n",
              "      <td></td>\n",
              "      <td>PresidentialDebate2020</td>\n",
              "      <td></td>\n",
              "      <td></td>\n",
              "      <td></td>\n",
              "      <td>{'user_id': None, 'username': None}</td>\n",
              "      <td></td>\n",
              "      <td></td>\n",
              "      <td></td>\n",
              "    </tr>\n",
              "    <tr>\n",
              "      <th>...</th>\n",
              "      <td>...</td>\n",
              "      <td>...</td>\n",
              "      <td>...</td>\n",
              "      <td>...</td>\n",
              "      <td>...</td>\n",
              "      <td>...</td>\n",
              "      <td>...</td>\n",
              "      <td>...</td>\n",
              "      <td>...</td>\n",
              "      <td>...</td>\n",
              "      <td>...</td>\n",
              "      <td>...</td>\n",
              "      <td>...</td>\n",
              "      <td>...</td>\n",
              "      <td>...</td>\n",
              "      <td>...</td>\n",
              "      <td>...</td>\n",
              "      <td>...</td>\n",
              "      <td>...</td>\n",
              "      <td>...</td>\n",
              "      <td>...</td>\n",
              "      <td>...</td>\n",
              "      <td>...</td>\n",
              "      <td>...</td>\n",
              "      <td>...</td>\n",
              "      <td>...</td>\n",
              "      <td>...</td>\n",
              "      <td>...</td>\n",
              "      <td>...</td>\n",
              "      <td>...</td>\n",
              "      <td>...</td>\n",
              "      <td>...</td>\n",
              "      <td>...</td>\n",
              "    </tr>\n",
              "    <tr>\n",
              "      <th>8806</th>\n",
              "      <td>1311705601597222912</td>\n",
              "      <td>1311705601597222912</td>\n",
              "      <td>2020-10-01 16:32:40</td>\n",
              "      <td>2020-10-01 16:32:40</td>\n",
              "      <td>0</td>\n",
              "      <td></td>\n",
              "      <td>Check out my Gig on Fiverr: do email marketing...</td>\n",
              "      <td>en</td>\n",
              "      <td>[october1st, worsttrumpever, thursdaythoughts,...</td>\n",
              "      <td>[]</td>\n",
              "      <td>1294253523769667586</td>\n",
              "      <td>1294253523769667584</td>\n",
              "      <td>kvngmujebo</td>\n",
              "      <td>Kvngmujebo</td>\n",
              "      <td>4</td>\n",
              "      <td>16</td>\n",
              "      <td>https://twitter.com/kvngmujebo/status/13117056...</td>\n",
              "      <td>[https://www.fiverr.com/share/1KRDaK]</td>\n",
              "      <td>[]</td>\n",
              "      <td>0</td>\n",
              "      <td></td>\n",
              "      <td>0</td>\n",
              "      <td>0</td>\n",
              "      <td>0</td>\n",
              "      <td></td>\n",
              "      <td>PresidentialDebate2020</td>\n",
              "      <td></td>\n",
              "      <td></td>\n",
              "      <td></td>\n",
              "      <td>{'user_id': None, 'username': None}</td>\n",
              "      <td></td>\n",
              "      <td></td>\n",
              "      <td></td>\n",
              "    </tr>\n",
              "    <tr>\n",
              "      <th>8807</th>\n",
              "      <td>1311705488531156992</td>\n",
              "      <td>1311705488531156992</td>\n",
              "      <td>2020-10-01 16:32:13</td>\n",
              "      <td>2020-10-01 16:32:13</td>\n",
              "      <td>0</td>\n",
              "      <td></td>\n",
              "      <td>This was made in 2012! It’s exactly like what ...</td>\n",
              "      <td>en</td>\n",
              "      <td>[democrats, republicans, presidentialdebate202...</td>\n",
              "      <td>[]</td>\n",
              "      <td>25635056</td>\n",
              "      <td>25635056</td>\n",
              "      <td>AZLatina480</td>\n",
              "      <td>Jessica Williams</td>\n",
              "      <td>4</td>\n",
              "      <td>16</td>\n",
              "      <td>https://twitter.com/AZLatina480/status/1311705...</td>\n",
              "      <td>[]</td>\n",
              "      <td>[]</td>\n",
              "      <td>0</td>\n",
              "      <td></td>\n",
              "      <td>0</td>\n",
              "      <td>0</td>\n",
              "      <td>0</td>\n",
              "      <td>https://twitter.com/JonnyEthco/status/13113395...</td>\n",
              "      <td>PresidentialDebate2020</td>\n",
              "      <td></td>\n",
              "      <td></td>\n",
              "      <td></td>\n",
              "      <td>{'user_id': None, 'username': None}</td>\n",
              "      <td></td>\n",
              "      <td></td>\n",
              "      <td></td>\n",
              "    </tr>\n",
              "    <tr>\n",
              "      <th>8808</th>\n",
              "      <td>1311705196657958912</td>\n",
              "      <td>1311705196657958912</td>\n",
              "      <td>2020-10-01 16:31:03</td>\n",
              "      <td>2020-10-01 16:31:03</td>\n",
              "      <td>0</td>\n",
              "      <td></td>\n",
              "      <td>How you finna lose two swing states with one q...</td>\n",
              "      <td>en</td>\n",
              "      <td>[presidentialdebate2020]</td>\n",
              "      <td>[]</td>\n",
              "      <td>382541164</td>\n",
              "      <td>382541164</td>\n",
              "      <td>SampsonRaySimon</td>\n",
              "      <td>Sampson Ray Simon</td>\n",
              "      <td>4</td>\n",
              "      <td>16</td>\n",
              "      <td>https://twitter.com/SampsonRaySimon/status/131...</td>\n",
              "      <td>[]</td>\n",
              "      <td>[]</td>\n",
              "      <td>0</td>\n",
              "      <td></td>\n",
              "      <td>0</td>\n",
              "      <td>0</td>\n",
              "      <td>0</td>\n",
              "      <td></td>\n",
              "      <td>PresidentialDebate2020</td>\n",
              "      <td></td>\n",
              "      <td></td>\n",
              "      <td></td>\n",
              "      <td>{'user_id': None, 'username': None}</td>\n",
              "      <td></td>\n",
              "      <td></td>\n",
              "      <td></td>\n",
              "    </tr>\n",
              "    <tr>\n",
              "      <th>8809</th>\n",
              "      <td>1311704929090891776</td>\n",
              "      <td>1311704929090891776</td>\n",
              "      <td>2020-10-01 16:30:00</td>\n",
              "      <td>2020-10-01 16:30:00</td>\n",
              "      <td>0</td>\n",
              "      <td></td>\n",
              "      <td>This morning on the @ArleneBynonShow, @gmacofg...</td>\n",
              "      <td>en</td>\n",
              "      <td>[erinotoole, blanchet, houseofcommons, trudeau...</td>\n",
              "      <td>[]</td>\n",
              "      <td>1343036322</td>\n",
              "      <td>1343036322</td>\n",
              "      <td>SXMCanadaTalks</td>\n",
              "      <td>SXMCanadaTalks</td>\n",
              "      <td>4</td>\n",
              "      <td>16</td>\n",
              "      <td>https://twitter.com/SXMCanadaTalks/status/1311...</td>\n",
              "      <td>[https://soundcloud.com/canadatalks/political-...</td>\n",
              "      <td>[]</td>\n",
              "      <td>0</td>\n",
              "      <td></td>\n",
              "      <td>3</td>\n",
              "      <td>2</td>\n",
              "      <td>3</td>\n",
              "      <td></td>\n",
              "      <td>PresidentialDebate2020</td>\n",
              "      <td></td>\n",
              "      <td></td>\n",
              "      <td></td>\n",
              "      <td>{'user_id': None, 'username': None}</td>\n",
              "      <td></td>\n",
              "      <td></td>\n",
              "      <td></td>\n",
              "    </tr>\n",
              "    <tr>\n",
              "      <th>8810</th>\n",
              "      <td>1311704928231010304</td>\n",
              "      <td>1311704928231010304</td>\n",
              "      <td>2020-10-01 16:29:59</td>\n",
              "      <td>2020-10-01 16:29:59</td>\n",
              "      <td>0</td>\n",
              "      <td></td>\n",
              "      <td>#PresidentialDebate2020  was something out of ...</td>\n",
              "      <td>en</td>\n",
              "      <td>[presidentialdebate2020, presidentialdebate2020]</td>\n",
              "      <td>[]</td>\n",
              "      <td>266475793</td>\n",
              "      <td>266475793</td>\n",
              "      <td>Kr3sn1k</td>\n",
              "      <td>Steve Black</td>\n",
              "      <td>4</td>\n",
              "      <td>16</td>\n",
              "      <td>https://twitter.com/Kr3sn1k/status/13117049282...</td>\n",
              "      <td>[]</td>\n",
              "      <td>[]</td>\n",
              "      <td>0</td>\n",
              "      <td></td>\n",
              "      <td>0</td>\n",
              "      <td>1</td>\n",
              "      <td>0</td>\n",
              "      <td></td>\n",
              "      <td>PresidentialDebate2020</td>\n",
              "      <td></td>\n",
              "      <td></td>\n",
              "      <td></td>\n",
              "      <td>{'user_id': None, 'username': None}</td>\n",
              "      <td></td>\n",
              "      <td></td>\n",
              "      <td></td>\n",
              "    </tr>\n",
              "  </tbody>\n",
              "</table>\n",
              "<p>8811 rows × 33 columns</p>\n",
              "</div>"
            ],
            "text/plain": [
              "                       id      conversation_id  ... trans_src trans_dest\n",
              "0     1318944772183281664  1318944772183281664  ...                     \n",
              "1     1318938583122743296  1318938583122743296  ...                     \n",
              "2     1318932554897031168  1318932554897031168  ...                     \n",
              "3     1318928783169245184  1318928783169245184  ...                     \n",
              "4     1318927150247018496  1318927150247018496  ...                     \n",
              "...                   ...                  ...  ...       ...        ...\n",
              "8806  1311705601597222912  1311705601597222912  ...                     \n",
              "8807  1311705488531156992  1311705488531156992  ...                     \n",
              "8808  1311705196657958912  1311705196657958912  ...                     \n",
              "8809  1311704929090891776  1311704929090891776  ...                     \n",
              "8810  1311704928231010304  1311704928231010304  ...                     \n",
              "\n",
              "[8811 rows x 33 columns]"
            ]
          },
          "metadata": {},
          "execution_count": 6
        }
      ]
    },
    {
      "cell_type": "code",
      "metadata": {
        "id": "2d1NwWKfcGHb"
      },
      "source": [
        "X_new_tweets = preprocessTweets(data_tweets['tweet'])"
      ],
      "execution_count": 65,
      "outputs": []
    },
    {
      "cell_type": "code",
      "metadata": {
        "id": "7ArFwzxVx1FG"
      },
      "source": [
        "predictions_new_tweets = model.predict_proba(X_new_tweets)"
      ],
      "execution_count": 68,
      "outputs": []
    },
    {
      "cell_type": "code",
      "metadata": {
        "colab": {
          "base_uri": "https://localhost:8080/"
        },
        "id": "jI1hUHs6yDyp",
        "outputId": "ef081160-eb62-44b3-ec40-c5da2465155c"
      },
      "source": [
        "predictions_new_tweets"
      ],
      "execution_count": 69,
      "outputs": [
        {
          "output_type": "execute_result",
          "data": {
            "text/plain": [
              "array([[0.18576599, 0.81423401],\n",
              "       [0.362734  , 0.637266  ],\n",
              "       [0.2135539 , 0.7864461 ],\n",
              "       ...,\n",
              "       [0.3949195 , 0.6050805 ],\n",
              "       [0.36839689, 0.63160311],\n",
              "       [0.71442461, 0.28557539]])"
            ]
          },
          "metadata": {},
          "execution_count": 69
        }
      ]
    },
    {
      "cell_type": "code",
      "metadata": {
        "id": "_PEZbznVyKxl"
      },
      "source": [
        "data_tweets['dem_probability'] = predictions_new_tweets[:,1]"
      ],
      "execution_count": 73,
      "outputs": []
    },
    {
      "cell_type": "code",
      "metadata": {
        "colab": {
          "base_uri": "https://localhost:8080/"
        },
        "id": "ZLOx-ajSyZ9X",
        "outputId": "3b14bc11-395f-4c6c-89d3-7f468bfe4371"
      },
      "source": [
        "for tweet in data_tweets.sort_values('dem_probability')['tweet'][:10]:\n",
        "  print(tweet)\n",
        "  print('\\n')"
      ],
      "execution_count": 89,
      "outputs": [
        {
          "output_type": "stream",
          "name": "stdout",
          "text": [
            "#PresidentialDebate2020 elections have been infiltrated by Chinese Communist Party !! Sign the Petition to Investigate, Condemn &amp; Reject the Chinese Communist Party #CCP #BidenCrimeFamily #COVID19 #Subversion   https://reject ccp  https://t.co/PNO7Vx4JSD\n",
            "\n",
            "\n",
            "#PresidentialDebate2020 elections have been infiltrated by Chinese Communist Party !! Sign the Petition to Investigate, Condemn &amp; Reject the Chinese Communist Party #CCP #BidenCrimeFamily #COVID19 #ChinaVirus   https://reject ccp  https://t.co/PNO7Vx4JSD\n",
            "\n",
            "\n",
            "I can start marking all these Pro #Biden hashtags made by Chinese bots as spam now finally???? my god!!! Did Twitter eff up???? Did #chinabitchbiden trigger something???? #bidencares #votebidenharris #bidenharrislandslide #PresidentialDebate2020 #Trump2020 #MAGA @realDonaldTrump  https://t.co/BWjmt59zqx\n",
            "\n",
            "\n",
            "@realDonaldTrump @MarkMeadows @senatemajldr @kevinomccarthy @SpeakerPelosi @SenSchumer Nancy Pelosi never listen and she never work for Americans. Made in China 🇨🇳#PresidentialDebate2020 #stimulus #2020Election #Trump2020 #MAGA  https://t.co/6dxhe01gao\n",
            "\n",
            "\n",
            "China for Biden  #PresidentialDebate2020 #Debates2020 #biden2020 #Trump2020 #VPDebate\n",
            "\n",
            "\n",
            "#英語学習　#nhkworld #PresidentialDebate2020  Honestly, I’m relieved not to hear the vulgar debate. Anyway, whoever the winner will be, I have no doubt that the next US president will be struggling with US-China relationships.  https://t.co/r6KXkLrO3D\n",
            "\n",
            "\n",
            "#HillaryClinton #china #Communism #Shame on you!! @realDonaldTrump @DeptofDefense @StateDept @USTreasury @CIA @FBI @USTreasury #trump2020 #usa #PresidentialDebate2020 #SleepyJoeBiden\n",
            "\n",
            "\n",
            "@TheDemocrats you guys keep saying @realDonaldTrump lied?? Hmm 🤔 #Democrats #Leftists #PresidentialDebate2020 #Biden   https://t.co/4Y3ZEgoys2\n",
            "\n",
            "\n",
            "@debates doesn't believe in free speech &amp; wants to mute microphones.  Let them talk without Wallace rescuing Biden multiple times!  Why are all the moderators liberal? Split debates evenly between conservative &amp; liberal mods. #PresidentialDebate2020 #FoxNews\n",
            "\n",
            "\n",
            "@CBSNews #PresidentialDebate2020 RIGGED SYSTEM! What the American People Want for topics: De-funding The police? Biden's Mental Fitness/Kamala Plan to Run Country? Increasing Taxes? Biden's Russian/China Collusion? Hunter's Relationship China/Russia? USA SHOULD DEMAND!  #LyingJoeBiden\n",
            "\n",
            "\n"
          ]
        }
      ]
    },
    {
      "cell_type": "code",
      "metadata": {
        "colab": {
          "base_uri": "https://localhost:8080/"
        },
        "id": "tAyKpb5k4cs4",
        "outputId": "dfa59b47-c7aa-466a-e032-6dafed36c332"
      },
      "source": [
        "for tweet in data_tweets.sort_values('dem_probability')['tweet'][-10:]:\n",
        "  print(tweet)\n",
        "  print('\\n')"
      ],
      "execution_count": 91,
      "outputs": [
        {
          "output_type": "stream",
          "name": "stdout",
          "text": [
            "\"Hello, Namaste Trump.\" \"Howdy, Modi!\"  #Debates2020 #Trump #PresidentialDebate2020\n",
            "\n",
            "\n",
            "Ewwww Trump Your Roommate Dirty 😩😩😂 #PresidentialDebate #PresidentialDebate2020  https://t.co/kHdjXDtklF\n",
            "\n",
            "\n",
            "@DeanObeidallah If #Trump cancels..... The #PresidentialDebate2020 will go on with #JoeBiden!!  https://t.co/XmpHG6bIt8\n",
            "\n",
            "\n",
            "What does a fly pitch on 😅😂😂  #Election2020 #presidentialdebate2020  #jokes #flys #trump #bidenharris2020  https://t.co/Dp0uZ3MMup\n",
            "\n",
            "\n",
            "#Trump  Mute him out Mute him out Mute him out  Next #PresidentialDebate2020\n",
            "\n",
            "\n",
            "#4 Climate Change mr Trump why don’t you believe in science?  #5 National Security mr Trump why are you a Russian agent?   #6 Leadership mr trump why are you a reprobate?  #Debates2020 #PresidentialDebate2020\n",
            "\n",
            "\n",
            "This segment on climate change gives me chills... it’s scary how much they don’t believe in science and climate change 💔 #PresidentialDebate2020\n",
            "\n",
            "\n",
            "The key takeaway from the #VPDebate2020? Same as for the #PresidentialDebate2020:  #Trump admin refuses to commit to democracy.  First #Trump refused, now #Pence has. OUR PRESIDENT AND VP ARE BOTH REJECTING DEMOCRACY. WAKE UP!!  https://t.co/VuTEio94C8\n",
            "\n",
            "\n",
            "Whose paying that black women behind trump to nod all day! #PresidentialDebate2020\n",
            "\n",
            "\n",
            "\"President Trump has Jewish grandchildren\" is the new \"I have black friends\". #PresidentialDebate2020\n",
            "\n",
            "\n"
          ]
        }
      ]
    },
    {
      "cell_type": "code",
      "metadata": {
        "id": "chhLmKof46Hl"
      },
      "source": [
        ""
      ],
      "execution_count": null,
      "outputs": []
    }
  ]
}