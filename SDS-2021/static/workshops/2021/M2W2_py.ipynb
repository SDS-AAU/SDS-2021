{
  "nbformat": 4,
  "nbformat_minor": 0,
  "metadata": {
    "colab": {
      "name": "SDS21 M2W2.ipynb",
      "provenance": [],
      "authorship_tag": "ABX9TyNdZ+WlCEo9/bHvDX/GJRGZ",
      "include_colab_link": true
    },
    "kernelspec": {
      "name": "python3",
      "display_name": "Python 3"
    },
    "language_info": {
      "name": "python"
    }
  },
  "cells": [
    {
      "cell_type": "markdown",
      "metadata": {
        "id": "view-in-github",
        "colab_type": "text"
      },
      "source": [
        "<a href=\"https://colab.research.google.com/github/SDS-AAU/SDS-2021/blob/master/SDS-2021/static/workshops/2021/M2W2_py.ipynb\" target=\"_parent\"><img src=\"https://colab.research.google.com/assets/colab-badge.svg\" alt=\"Open In Colab\"/></a>"
      ]
    },
    {
      "cell_type": "code",
      "metadata": {
        "id": "Ck35ovgKl-E0"
      },
      "source": [
        "!pip install tweet-preprocessor -qq"
      ],
      "execution_count": 7,
      "outputs": []
    },
    {
      "cell_type": "code",
      "metadata": {
        "id": "wsImrotrbRA2"
      },
      "source": [
        "import pandas as pd\n",
        "import preprocessor as prepro\n"
      ],
      "execution_count": 1,
      "outputs": []
    },
    {
      "cell_type": "code",
      "metadata": {
        "id": "o-MQiLPgbZS5"
      },
      "source": [
        "data_congress = pd.read_json('https://github.com/SDS-AAU/SDS-master/raw/master/M2/data/pol_tweets.gz')"
      ],
      "execution_count": 2,
      "outputs": []
    },
    {
      "cell_type": "code",
      "metadata": {
        "colab": {
          "base_uri": "https://localhost:8080/",
          "height": 417
        },
        "id": "Cskw1FNRbeHX",
        "outputId": "1f64feda-2bd8-44d2-b062-d742851c61c4"
      },
      "source": [
        "data_congress"
      ],
      "execution_count": 3,
      "outputs": [
        {
          "output_type": "execute_result",
          "data": {
            "text/html": [
              "<div>\n",
              "<style scoped>\n",
              "    .dataframe tbody tr th:only-of-type {\n",
              "        vertical-align: middle;\n",
              "    }\n",
              "\n",
              "    .dataframe tbody tr th {\n",
              "        vertical-align: top;\n",
              "    }\n",
              "\n",
              "    .dataframe thead th {\n",
              "        text-align: right;\n",
              "    }\n",
              "</style>\n",
              "<table border=\"1\" class=\"dataframe\">\n",
              "  <thead>\n",
              "    <tr style=\"text-align: right;\">\n",
              "      <th></th>\n",
              "      <th>text</th>\n",
              "      <th>labels</th>\n",
              "    </tr>\n",
              "  </thead>\n",
              "  <tbody>\n",
              "    <tr>\n",
              "      <th>340675</th>\n",
              "      <td>RT @GreenBeretFound Today we remember Sgt. 1st...</td>\n",
              "      <td>0</td>\n",
              "    </tr>\n",
              "    <tr>\n",
              "      <th>289492</th>\n",
              "      <td>Yes, yes, yes, yes and yes. 😷 #JerseyStrong 💪🏾...</td>\n",
              "      <td>1</td>\n",
              "    </tr>\n",
              "    <tr>\n",
              "      <th>371088</th>\n",
              "      <td>Made new friends this afternoon delivering mas...</td>\n",
              "      <td>1</td>\n",
              "    </tr>\n",
              "    <tr>\n",
              "      <th>82212</th>\n",
              "      <td>RT @TXMilitary Happening TODAY: Pilots with th...</td>\n",
              "      <td>0</td>\n",
              "    </tr>\n",
              "    <tr>\n",
              "      <th>476047</th>\n",
              "      <td>RT @SteveScalise President Trump's legal team ...</td>\n",
              "      <td>0</td>\n",
              "    </tr>\n",
              "    <tr>\n",
              "      <th>...</th>\n",
              "      <td>...</td>\n",
              "      <td>...</td>\n",
              "    </tr>\n",
              "    <tr>\n",
              "      <th>61499</th>\n",
              "      <td>Outrageous.\\n\\nBrave health care workers are p...</td>\n",
              "      <td>0</td>\n",
              "    </tr>\n",
              "    <tr>\n",
              "      <th>185562</th>\n",
              "      <td>RT @dskolnick .@RepTimRyan proposes up to $3K ...</td>\n",
              "      <td>1</td>\n",
              "    </tr>\n",
              "    <tr>\n",
              "      <th>354040</th>\n",
              "      <td>It is clear that the #HeroesAct will help tens...</td>\n",
              "      <td>1</td>\n",
              "    </tr>\n",
              "    <tr>\n",
              "      <th>708686</th>\n",
              "      <td>Democrats are talking about Bolton and Mulvane...</td>\n",
              "      <td>0</td>\n",
              "    </tr>\n",
              "    <tr>\n",
              "      <th>568643</th>\n",
              "      <td>The President claims his administration is, \"d...</td>\n",
              "      <td>1</td>\n",
              "    </tr>\n",
              "  </tbody>\n",
              "</table>\n",
              "<p>50000 rows × 2 columns</p>\n",
              "</div>"
            ],
            "text/plain": [
              "                                                     text  labels\n",
              "340675  RT @GreenBeretFound Today we remember Sgt. 1st...       0\n",
              "289492  Yes, yes, yes, yes and yes. 😷 #JerseyStrong 💪🏾...       1\n",
              "371088  Made new friends this afternoon delivering mas...       1\n",
              "82212   RT @TXMilitary Happening TODAY: Pilots with th...       0\n",
              "476047  RT @SteveScalise President Trump's legal team ...       0\n",
              "...                                                   ...     ...\n",
              "61499   Outrageous.\\n\\nBrave health care workers are p...       0\n",
              "185562  RT @dskolnick .@RepTimRyan proposes up to $3K ...       1\n",
              "354040  It is clear that the #HeroesAct will help tens...       1\n",
              "708686  Democrats are talking about Bolton and Mulvane...       0\n",
              "568643  The President claims his administration is, \"d...       1\n",
              "\n",
              "[50000 rows x 2 columns]"
            ]
          },
          "metadata": {},
          "execution_count": 3
        }
      ]
    },
    {
      "cell_type": "code",
      "metadata": {
        "id": "9xztOvSUliYX"
      },
      "source": [
        "prepro.set_options(prepro.OPT.URL, prepro.OPT.EMOJI, prepro.OPT.NUMBER, prepro.OPT.RESERVED, prepro.OPT.MENTION, prepro.OPT.SMILEY)"
      ],
      "execution_count": 17,
      "outputs": []
    },
    {
      "cell_type": "code",
      "metadata": {
        "id": "9fAZT2cPn_Tk"
      },
      "source": [
        "data_congress['text_clean'] = data_congress['text'].map(lambda t: prepro.clean(t))"
      ],
      "execution_count": 18,
      "outputs": []
    },
    {
      "cell_type": "code",
      "metadata": {
        "id": "v4B5fAz7oU6r"
      },
      "source": [
        "data_congress['text_clean'] = data_congress['text_clean'].str.replace('#','')"
      ],
      "execution_count": 20,
      "outputs": []
    },
    {
      "cell_type": "code",
      "metadata": {
        "id": "QZtIiHqGr61S"
      },
      "source": [
        "import spacy\n",
        "nlp = spacy.load(\"en\")"
      ],
      "execution_count": null,
      "outputs": []
    },
    {
      "cell_type": "code",
      "metadata": {
        "id": "k7UCRSg0r785"
      },
      "source": [
        "nlp_text = nlp('roman is confusing and we kind of need a brake right now.')"
      ],
      "execution_count": null,
      "outputs": []
    },
    {
      "cell_type": "code",
      "metadata": {
        "colab": {
          "base_uri": "https://localhost:8080/"
        },
        "id": "etFbu3AUsJKv",
        "outputId": "371e099d-2498-4703-8764-8f227b1bbf5e"
      },
      "source": [
        "[token.text for token in nlp_text if token.pos_ in ['NOUN', 'PROPN', 'ADJ', 'ADV'] and not token.is_stop]"
      ],
      "execution_count": null,
      "outputs": [
        {
          "output_type": "execute_result",
          "data": {
            "text/plain": [
              "['roman', 'confusing', 'kind', 'brake', 'right']"
            ]
          },
          "metadata": {},
          "execution_count": 42
        }
      ]
    },
    {
      "cell_type": "code",
      "metadata": {
        "id": "_dSfkR4stW9J"
      },
      "source": [
        "tokens = []\n",
        "\n",
        "for tweet in nlp.pipe(data_congress.sample(1000)['text_clean']):\n",
        "  tweet_tok = [token.lemma_.lower() for token in tweet if token.pos_ in ['NOUN', 'PROPN', 'ADJ', 'ADV'] and not token.is_stop] \n",
        "  tokens.extend(tweet_tok)"
      ],
      "execution_count": null,
      "outputs": []
    },
    {
      "cell_type": "code",
      "metadata": {
        "id": "oV8LEVvOuIFR"
      },
      "source": [
        "bootstrap_dictionary = list(set(tokens))"
      ],
      "execution_count": null,
      "outputs": []
    },
    {
      "cell_type": "code",
      "metadata": {
        "id": "8kv5b2-0p72v"
      },
      "source": [
        "from sklearn.feature_extraction.text import TfidfVectorizer\n",
        "\n",
        "vectorizer = TfidfVectorizer(vocabulary=bootstrap_dictionary)\n",
        "X = vectorizer.fit_transform(data_congress['text_clean'])"
      ],
      "execution_count": 52,
      "outputs": []
    },
    {
      "cell_type": "code",
      "metadata": {
        "colab": {
          "base_uri": "https://localhost:8080/"
        },
        "id": "FG_3m-4HqCTj",
        "outputId": "0c0d0b55-7842-4549-ac4c-c859c8fc81da"
      },
      "source": [
        "X.shape"
      ],
      "execution_count": 53,
      "outputs": [
        {
          "output_type": "execute_result",
          "data": {
            "text/plain": [
              "(50000, 4092)"
            ]
          },
          "metadata": {},
          "execution_count": 53
        }
      ]
    },
    {
      "cell_type": "code",
      "metadata": {
        "id": "btjRZvnyw2Qw"
      },
      "source": [
        "# requires instantiated vectorizer e.g. TFIDF\n",
        "\n",
        "def preprocessTweets(data_tweets):\n",
        "  clean_text = data_tweets.map(lambda t: prepro.clean(t))\n",
        "  clean_text = clean_text.str.replace('#','')\n",
        "  return vectorizer.transform(clean_text)"
      ],
      "execution_count": 62,
      "outputs": []
    },
    {
      "cell_type": "code",
      "metadata": {
        "id": "f8-mmu8oqqy2"
      },
      "source": [
        "y = data_congress['labels']"
      ],
      "execution_count": 54,
      "outputs": []
    },
    {
      "cell_type": "code",
      "metadata": {
        "id": "AJ7v6wUvq55Z"
      },
      "source": [
        "from sklearn.model_selection import train_test_split\n",
        "X_train, X_test, y_train, y_test = train_test_split(X, y, test_size = 0.2, random_state = 21)"
      ],
      "execution_count": 55,
      "outputs": []
    },
    {
      "cell_type": "code",
      "metadata": {
        "colab": {
          "base_uri": "https://localhost:8080/"
        },
        "id": "L52Z2kunq9h2",
        "outputId": "b61c5aef-583a-4a71-c05c-01e0fa557b59"
      },
      "source": [
        "from sklearn.linear_model import LogisticRegression\n",
        "model = LogisticRegression(multi_class=\"ovr\") # since we have 3 classes\n",
        "model.fit(X_train, y_train)"
      ],
      "execution_count": 56,
      "outputs": [
        {
          "output_type": "stream",
          "name": "stderr",
          "text": [
            "/usr/local/lib/python3.7/dist-packages/sklearn/linear_model/_logistic.py:940: ConvergenceWarning: lbfgs failed to converge (status=1):\n",
            "STOP: TOTAL NO. of ITERATIONS REACHED LIMIT.\n",
            "\n",
            "Increase the number of iterations (max_iter) or scale the data as shown in:\n",
            "    https://scikit-learn.org/stable/modules/preprocessing.html\n",
            "Please also refer to the documentation for alternative solver options:\n",
            "    https://scikit-learn.org/stable/modules/linear_model.html#logistic-regression\n",
            "  extra_warning_msg=_LOGISTIC_SOLVER_CONVERGENCE_MSG)\n"
          ]
        },
        {
          "output_type": "execute_result",
          "data": {
            "text/plain": [
              "LogisticRegression(C=1.0, class_weight=None, dual=False, fit_intercept=True,\n",
              "                   intercept_scaling=1, l1_ratio=None, max_iter=100,\n",
              "                   multi_class='ovr', n_jobs=None, penalty='l2',\n",
              "                   random_state=None, solver='lbfgs', tol=0.0001, verbose=0,\n",
              "                   warm_start=False)"
            ]
          },
          "metadata": {},
          "execution_count": 56
        }
      ]
    },
    {
      "cell_type": "code",
      "metadata": {
        "colab": {
          "base_uri": "https://localhost:8080/"
        },
        "id": "2rxu7racrCa4",
        "outputId": "19f999c5-105d-4ce0-d866-6b2743676e36"
      },
      "source": [
        "model.score(X_test, y_test)"
      ],
      "execution_count": 57,
      "outputs": [
        {
          "output_type": "execute_result",
          "data": {
            "text/plain": [
              "0.7538"
            ]
          },
          "metadata": {},
          "execution_count": 57
        }
      ]
    },
    {
      "cell_type": "code",
      "metadata": {
        "id": "Rzpi2DSObe_x"
      },
      "source": [
        "data_tweets = pd.read_json('https://github.com/SDS-AAU/SDS-master/raw/master/M2/data/pres_debate_2020.gz')"
      ],
      "execution_count": 5,
      "outputs": []
    },
    {
      "cell_type": "code",
      "metadata": {
        "colab": {
          "base_uri": "https://localhost:8080/",
          "height": 941
        },
        "id": "7VA2PNUqcFD0",
        "outputId": "564a578c-52db-4707-bc14-4ba8c3d4b03f"
      },
      "source": [
        "data_tweets"
      ],
      "execution_count": 6,
      "outputs": [
        {
          "output_type": "execute_result",
          "data": {
            "text/html": [
              "<div>\n",
              "<style scoped>\n",
              "    .dataframe tbody tr th:only-of-type {\n",
              "        vertical-align: middle;\n",
              "    }\n",
              "\n",
              "    .dataframe tbody tr th {\n",
              "        vertical-align: top;\n",
              "    }\n",
              "\n",
              "    .dataframe thead th {\n",
              "        text-align: right;\n",
              "    }\n",
              "</style>\n",
              "<table border=\"1\" class=\"dataframe\">\n",
              "  <thead>\n",
              "    <tr style=\"text-align: right;\">\n",
              "      <th></th>\n",
              "      <th>id</th>\n",
              "      <th>conversation_id</th>\n",
              "      <th>created_at</th>\n",
              "      <th>date</th>\n",
              "      <th>timezone</th>\n",
              "      <th>place</th>\n",
              "      <th>tweet</th>\n",
              "      <th>language</th>\n",
              "      <th>hashtags</th>\n",
              "      <th>cashtags</th>\n",
              "      <th>user_id</th>\n",
              "      <th>user_id_str</th>\n",
              "      <th>username</th>\n",
              "      <th>name</th>\n",
              "      <th>day</th>\n",
              "      <th>hour</th>\n",
              "      <th>link</th>\n",
              "      <th>urls</th>\n",
              "      <th>photos</th>\n",
              "      <th>video</th>\n",
              "      <th>thumbnail</th>\n",
              "      <th>nlikes</th>\n",
              "      <th>nreplies</th>\n",
              "      <th>nretweets</th>\n",
              "      <th>quote_url</th>\n",
              "      <th>search</th>\n",
              "      <th>near</th>\n",
              "      <th>geo</th>\n",
              "      <th>source</th>\n",
              "      <th>reply_to</th>\n",
              "      <th>translate</th>\n",
              "      <th>trans_src</th>\n",
              "      <th>trans_dest</th>\n",
              "    </tr>\n",
              "  </thead>\n",
              "  <tbody>\n",
              "    <tr>\n",
              "      <th>0</th>\n",
              "      <td>1318944772183281664</td>\n",
              "      <td>1318944772183281664</td>\n",
              "      <td>2020-10-21 15:58:33</td>\n",
              "      <td>2020-10-21 15:58:33</td>\n",
              "      <td>0</td>\n",
              "      <td></td>\n",
              "      <td>Still time to register: Students can join the ...</td>\n",
              "      <td>en</td>\n",
              "      <td>[presidentialdebate2020]</td>\n",
              "      <td>[]</td>\n",
              "      <td>1130857348921036802</td>\n",
              "      <td>1130857348921036800</td>\n",
              "      <td>UVADemocracy</td>\n",
              "      <td>UVA Democracy Initiative</td>\n",
              "      <td>3</td>\n",
              "      <td>15</td>\n",
              "      <td>https://twitter.com/UVADemocracy/status/131894...</td>\n",
              "      <td>[https://bit.ly/349NTIU]</td>\n",
              "      <td>[https://pbs.twimg.com/media/Ek3UXC1X0AAw47D.png]</td>\n",
              "      <td>1</td>\n",
              "      <td>https://pbs.twimg.com/media/Ek3UXC1X0AAw47D.png</td>\n",
              "      <td>2</td>\n",
              "      <td>0</td>\n",
              "      <td>2</td>\n",
              "      <td></td>\n",
              "      <td>PresidentialDebate2020</td>\n",
              "      <td></td>\n",
              "      <td></td>\n",
              "      <td></td>\n",
              "      <td>{'user_id': None, 'username': None}</td>\n",
              "      <td></td>\n",
              "      <td></td>\n",
              "      <td></td>\n",
              "    </tr>\n",
              "    <tr>\n",
              "      <th>1</th>\n",
              "      <td>1318938583122743296</td>\n",
              "      <td>1318938583122743296</td>\n",
              "      <td>2020-10-21 15:33:57</td>\n",
              "      <td>2020-10-21 15:33:57</td>\n",
              "      <td>0</td>\n",
              "      <td></td>\n",
              "      <td>Be prepared for Trump to railroad Thursday’s d...</td>\n",
              "      <td>en</td>\n",
              "      <td>[presidentialdebate2020]</td>\n",
              "      <td>[]</td>\n",
              "      <td>243363569</td>\n",
              "      <td>243363569</td>\n",
              "      <td>kevinjguest</td>\n",
              "      <td>Kevin Guest</td>\n",
              "      <td>3</td>\n",
              "      <td>15</td>\n",
              "      <td>https://twitter.com/kevinjguest/status/1318938...</td>\n",
              "      <td>[]</td>\n",
              "      <td>[]</td>\n",
              "      <td>0</td>\n",
              "      <td></td>\n",
              "      <td>0</td>\n",
              "      <td>0</td>\n",
              "      <td>0</td>\n",
              "      <td>https://twitter.com/donaldjtrumpjr/status/1318...</td>\n",
              "      <td>PresidentialDebate2020</td>\n",
              "      <td></td>\n",
              "      <td></td>\n",
              "      <td></td>\n",
              "      <td>{'user_id': None, 'username': None}</td>\n",
              "      <td></td>\n",
              "      <td></td>\n",
              "      <td></td>\n",
              "    </tr>\n",
              "    <tr>\n",
              "      <th>2</th>\n",
              "      <td>1318932554897031168</td>\n",
              "      <td>1318932554897031168</td>\n",
              "      <td>2020-10-21 15:10:00</td>\n",
              "      <td>2020-10-21 15:10:00</td>\n",
              "      <td>0</td>\n",
              "      <td></td>\n",
              "      <td>Join us tomorrow from 5-8pm as @michaelpleahy ...</td>\n",
              "      <td>en</td>\n",
              "      <td>[presidentialdebate2020]</td>\n",
              "      <td>[]</td>\n",
              "      <td>26819436</td>\n",
              "      <td>26819436</td>\n",
              "      <td>TalkradioWLAC</td>\n",
              "      <td>Talkradio WLAC</td>\n",
              "      <td>3</td>\n",
              "      <td>15</td>\n",
              "      <td>https://twitter.com/TalkradioWLAC/status/13189...</td>\n",
              "      <td>[https://wlac.iheart.com/calendar/event/5f8df3...</td>\n",
              "      <td>[]</td>\n",
              "      <td>0</td>\n",
              "      <td></td>\n",
              "      <td>0</td>\n",
              "      <td>0</td>\n",
              "      <td>0</td>\n",
              "      <td></td>\n",
              "      <td>PresidentialDebate2020</td>\n",
              "      <td></td>\n",
              "      <td></td>\n",
              "      <td></td>\n",
              "      <td>{'user_id': None, 'username': None}</td>\n",
              "      <td></td>\n",
              "      <td></td>\n",
              "      <td></td>\n",
              "    </tr>\n",
              "    <tr>\n",
              "      <th>3</th>\n",
              "      <td>1318928783169245184</td>\n",
              "      <td>1318928783169245184</td>\n",
              "      <td>2020-10-21 14:55:01</td>\n",
              "      <td>2020-10-21 14:55:01</td>\n",
              "      <td>0</td>\n",
              "      <td></td>\n",
              "      <td>Wanna bet #ProudBoys comes up #PresidentialDeb...</td>\n",
              "      <td>en</td>\n",
              "      <td>[proudboys, presidentialdebate2020]</td>\n",
              "      <td>[]</td>\n",
              "      <td>298018860</td>\n",
              "      <td>298018860</td>\n",
              "      <td>PBPoliticsFins</td>\n",
              "      <td>Antonio Fins</td>\n",
              "      <td>3</td>\n",
              "      <td>14</td>\n",
              "      <td>https://twitter.com/PBPoliticsFins/status/1318...</td>\n",
              "      <td>[https://www.palmbeachpost.com/story/news/2020...</td>\n",
              "      <td>[]</td>\n",
              "      <td>0</td>\n",
              "      <td></td>\n",
              "      <td>0</td>\n",
              "      <td>0</td>\n",
              "      <td>0</td>\n",
              "      <td></td>\n",
              "      <td>PresidentialDebate2020</td>\n",
              "      <td></td>\n",
              "      <td></td>\n",
              "      <td></td>\n",
              "      <td>{'user_id': None, 'username': None}</td>\n",
              "      <td></td>\n",
              "      <td></td>\n",
              "      <td></td>\n",
              "    </tr>\n",
              "    <tr>\n",
              "      <th>4</th>\n",
              "      <td>1318927150247018496</td>\n",
              "      <td>1318927150247018496</td>\n",
              "      <td>2020-10-21 14:48:31</td>\n",
              "      <td>2020-10-21 14:48:31</td>\n",
              "      <td>0</td>\n",
              "      <td></td>\n",
              "      <td>RT College Tour @BelmontUniv was spotless. Gor...</td>\n",
              "      <td>en</td>\n",
              "      <td>[musiccity, presidentialdebate2020]</td>\n",
              "      <td>[]</td>\n",
              "      <td>4159192877</td>\n",
              "      <td>4159192877</td>\n",
              "      <td>12thSouth</td>\n",
              "      <td>12th South</td>\n",
              "      <td>3</td>\n",
              "      <td>14</td>\n",
              "      <td>https://twitter.com/12thSouth/status/131892715...</td>\n",
              "      <td>[]</td>\n",
              "      <td>[https://pbs.twimg.com/media/Ek3CBOhXYAIpo8C.j...</td>\n",
              "      <td>1</td>\n",
              "      <td>https://pbs.twimg.com/media/Ek3CBOhXYAIpo8C.jpg</td>\n",
              "      <td>0</td>\n",
              "      <td>0</td>\n",
              "      <td>0</td>\n",
              "      <td></td>\n",
              "      <td>PresidentialDebate2020</td>\n",
              "      <td></td>\n",
              "      <td></td>\n",
              "      <td></td>\n",
              "      <td>{'user_id': None, 'username': None}</td>\n",
              "      <td></td>\n",
              "      <td></td>\n",
              "      <td></td>\n",
              "    </tr>\n",
              "    <tr>\n",
              "      <th>...</th>\n",
              "      <td>...</td>\n",
              "      <td>...</td>\n",
              "      <td>...</td>\n",
              "      <td>...</td>\n",
              "      <td>...</td>\n",
              "      <td>...</td>\n",
              "      <td>...</td>\n",
              "      <td>...</td>\n",
              "      <td>...</td>\n",
              "      <td>...</td>\n",
              "      <td>...</td>\n",
              "      <td>...</td>\n",
              "      <td>...</td>\n",
              "      <td>...</td>\n",
              "      <td>...</td>\n",
              "      <td>...</td>\n",
              "      <td>...</td>\n",
              "      <td>...</td>\n",
              "      <td>...</td>\n",
              "      <td>...</td>\n",
              "      <td>...</td>\n",
              "      <td>...</td>\n",
              "      <td>...</td>\n",
              "      <td>...</td>\n",
              "      <td>...</td>\n",
              "      <td>...</td>\n",
              "      <td>...</td>\n",
              "      <td>...</td>\n",
              "      <td>...</td>\n",
              "      <td>...</td>\n",
              "      <td>...</td>\n",
              "      <td>...</td>\n",
              "      <td>...</td>\n",
              "    </tr>\n",
              "    <tr>\n",
              "      <th>8806</th>\n",
              "      <td>1311705601597222912</td>\n",
              "      <td>1311705601597222912</td>\n",
              "      <td>2020-10-01 16:32:40</td>\n",
              "      <td>2020-10-01 16:32:40</td>\n",
              "      <td>0</td>\n",
              "      <td></td>\n",
              "      <td>Check out my Gig on Fiverr: do email marketing...</td>\n",
              "      <td>en</td>\n",
              "      <td>[october1st, worsttrumpever, thursdaythoughts,...</td>\n",
              "      <td>[]</td>\n",
              "      <td>1294253523769667586</td>\n",
              "      <td>1294253523769667584</td>\n",
              "      <td>kvngmujebo</td>\n",
              "      <td>Kvngmujebo</td>\n",
              "      <td>4</td>\n",
              "      <td>16</td>\n",
              "      <td>https://twitter.com/kvngmujebo/status/13117056...</td>\n",
              "      <td>[https://www.fiverr.com/share/1KRDaK]</td>\n",
              "      <td>[]</td>\n",
              "      <td>0</td>\n",
              "      <td></td>\n",
              "      <td>0</td>\n",
              "      <td>0</td>\n",
              "      <td>0</td>\n",
              "      <td></td>\n",
              "      <td>PresidentialDebate2020</td>\n",
              "      <td></td>\n",
              "      <td></td>\n",
              "      <td></td>\n",
              "      <td>{'user_id': None, 'username': None}</td>\n",
              "      <td></td>\n",
              "      <td></td>\n",
              "      <td></td>\n",
              "    </tr>\n",
              "    <tr>\n",
              "      <th>8807</th>\n",
              "      <td>1311705488531156992</td>\n",
              "      <td>1311705488531156992</td>\n",
              "      <td>2020-10-01 16:32:13</td>\n",
              "      <td>2020-10-01 16:32:13</td>\n",
              "      <td>0</td>\n",
              "      <td></td>\n",
              "      <td>This was made in 2012! It’s exactly like what ...</td>\n",
              "      <td>en</td>\n",
              "      <td>[democrats, republicans, presidentialdebate202...</td>\n",
              "      <td>[]</td>\n",
              "      <td>25635056</td>\n",
              "      <td>25635056</td>\n",
              "      <td>AZLatina480</td>\n",
              "      <td>Jessica Williams</td>\n",
              "      <td>4</td>\n",
              "      <td>16</td>\n",
              "      <td>https://twitter.com/AZLatina480/status/1311705...</td>\n",
              "      <td>[]</td>\n",
              "      <td>[]</td>\n",
              "      <td>0</td>\n",
              "      <td></td>\n",
              "      <td>0</td>\n",
              "      <td>0</td>\n",
              "      <td>0</td>\n",
              "      <td>https://twitter.com/JonnyEthco/status/13113395...</td>\n",
              "      <td>PresidentialDebate2020</td>\n",
              "      <td></td>\n",
              "      <td></td>\n",
              "      <td></td>\n",
              "      <td>{'user_id': None, 'username': None}</td>\n",
              "      <td></td>\n",
              "      <td></td>\n",
              "      <td></td>\n",
              "    </tr>\n",
              "    <tr>\n",
              "      <th>8808</th>\n",
              "      <td>1311705196657958912</td>\n",
              "      <td>1311705196657958912</td>\n",
              "      <td>2020-10-01 16:31:03</td>\n",
              "      <td>2020-10-01 16:31:03</td>\n",
              "      <td>0</td>\n",
              "      <td></td>\n",
              "      <td>How you finna lose two swing states with one q...</td>\n",
              "      <td>en</td>\n",
              "      <td>[presidentialdebate2020]</td>\n",
              "      <td>[]</td>\n",
              "      <td>382541164</td>\n",
              "      <td>382541164</td>\n",
              "      <td>SampsonRaySimon</td>\n",
              "      <td>Sampson Ray Simon</td>\n",
              "      <td>4</td>\n",
              "      <td>16</td>\n",
              "      <td>https://twitter.com/SampsonRaySimon/status/131...</td>\n",
              "      <td>[]</td>\n",
              "      <td>[]</td>\n",
              "      <td>0</td>\n",
              "      <td></td>\n",
              "      <td>0</td>\n",
              "      <td>0</td>\n",
              "      <td>0</td>\n",
              "      <td></td>\n",
              "      <td>PresidentialDebate2020</td>\n",
              "      <td></td>\n",
              "      <td></td>\n",
              "      <td></td>\n",
              "      <td>{'user_id': None, 'username': None}</td>\n",
              "      <td></td>\n",
              "      <td></td>\n",
              "      <td></td>\n",
              "    </tr>\n",
              "    <tr>\n",
              "      <th>8809</th>\n",
              "      <td>1311704929090891776</td>\n",
              "      <td>1311704929090891776</td>\n",
              "      <td>2020-10-01 16:30:00</td>\n",
              "      <td>2020-10-01 16:30:00</td>\n",
              "      <td>0</td>\n",
              "      <td></td>\n",
              "      <td>This morning on the @ArleneBynonShow, @gmacofg...</td>\n",
              "      <td>en</td>\n",
              "      <td>[erinotoole, blanchet, houseofcommons, trudeau...</td>\n",
              "      <td>[]</td>\n",
              "      <td>1343036322</td>\n",
              "      <td>1343036322</td>\n",
              "      <td>SXMCanadaTalks</td>\n",
              "      <td>SXMCanadaTalks</td>\n",
              "      <td>4</td>\n",
              "      <td>16</td>\n",
              "      <td>https://twitter.com/SXMCanadaTalks/status/1311...</td>\n",
              "      <td>[https://soundcloud.com/canadatalks/political-...</td>\n",
              "      <td>[]</td>\n",
              "      <td>0</td>\n",
              "      <td></td>\n",
              "      <td>3</td>\n",
              "      <td>2</td>\n",
              "      <td>3</td>\n",
              "      <td></td>\n",
              "      <td>PresidentialDebate2020</td>\n",
              "      <td></td>\n",
              "      <td></td>\n",
              "      <td></td>\n",
              "      <td>{'user_id': None, 'username': None}</td>\n",
              "      <td></td>\n",
              "      <td></td>\n",
              "      <td></td>\n",
              "    </tr>\n",
              "    <tr>\n",
              "      <th>8810</th>\n",
              "      <td>1311704928231010304</td>\n",
              "      <td>1311704928231010304</td>\n",
              "      <td>2020-10-01 16:29:59</td>\n",
              "      <td>2020-10-01 16:29:59</td>\n",
              "      <td>0</td>\n",
              "      <td></td>\n",
              "      <td>#PresidentialDebate2020  was something out of ...</td>\n",
              "      <td>en</td>\n",
              "      <td>[presidentialdebate2020, presidentialdebate2020]</td>\n",
              "      <td>[]</td>\n",
              "      <td>266475793</td>\n",
              "      <td>266475793</td>\n",
              "      <td>Kr3sn1k</td>\n",
              "      <td>Steve Black</td>\n",
              "      <td>4</td>\n",
              "      <td>16</td>\n",
              "      <td>https://twitter.com/Kr3sn1k/status/13117049282...</td>\n",
              "      <td>[]</td>\n",
              "      <td>[]</td>\n",
              "      <td>0</td>\n",
              "      <td></td>\n",
              "      <td>0</td>\n",
              "      <td>1</td>\n",
              "      <td>0</td>\n",
              "      <td></td>\n",
              "      <td>PresidentialDebate2020</td>\n",
              "      <td></td>\n",
              "      <td></td>\n",
              "      <td></td>\n",
              "      <td>{'user_id': None, 'username': None}</td>\n",
              "      <td></td>\n",
              "      <td></td>\n",
              "      <td></td>\n",
              "    </tr>\n",
              "  </tbody>\n",
              "</table>\n",
              "<p>8811 rows × 33 columns</p>\n",
              "</div>"
            ],
            "text/plain": [
              "                       id      conversation_id  ... trans_src trans_dest\n",
              "0     1318944772183281664  1318944772183281664  ...                     \n",
              "1     1318938583122743296  1318938583122743296  ...                     \n",
              "2     1318932554897031168  1318932554897031168  ...                     \n",
              "3     1318928783169245184  1318928783169245184  ...                     \n",
              "4     1318927150247018496  1318927150247018496  ...                     \n",
              "...                   ...                  ...  ...       ...        ...\n",
              "8806  1311705601597222912  1311705601597222912  ...                     \n",
              "8807  1311705488531156992  1311705488531156992  ...                     \n",
              "8808  1311705196657958912  1311705196657958912  ...                     \n",
              "8809  1311704929090891776  1311704929090891776  ...                     \n",
              "8810  1311704928231010304  1311704928231010304  ...                     \n",
              "\n",
              "[8811 rows x 33 columns]"
            ]
          },
          "metadata": {},
          "execution_count": 6
        }
      ]
    },
    {
      "cell_type": "code",
      "metadata": {
        "id": "2d1NwWKfcGHb"
      },
      "source": [
        "X_new_tweets = preprocessTweets(data_tweets['tweet'])"
      ],
      "execution_count": 65,
      "outputs": []
    },
    {
      "cell_type": "code",
      "metadata": {
        "id": "7ArFwzxVx1FG"
      },
      "source": [
        "predictions_new_tweets = model.predict_proba(X_new_tweets)"
      ],
      "execution_count": 68,
      "outputs": []
    },
    {
      "cell_type": "code",
      "metadata": {
        "colab": {
          "base_uri": "https://localhost:8080/"
        },
        "id": "jI1hUHs6yDyp",
        "outputId": "ef081160-eb62-44b3-ec40-c5da2465155c"
      },
      "source": [
        "predictions_new_tweets"
      ],
      "execution_count": 69,
      "outputs": [
        {
          "output_type": "execute_result",
          "data": {
            "text/plain": [
              "array([[0.18576599, 0.81423401],\n",
              "       [0.362734  , 0.637266  ],\n",
              "       [0.2135539 , 0.7864461 ],\n",
              "       ...,\n",
              "       [0.3949195 , 0.6050805 ],\n",
              "       [0.36839689, 0.63160311],\n",
              "       [0.71442461, 0.28557539]])"
            ]
          },
          "metadata": {},
          "execution_count": 69
        }
      ]
    },
    {
      "cell_type": "code",
      "metadata": {
        "id": "_PEZbznVyKxl"
      },
      "source": [
        "data_tweets['dem_probability'] = predictions_new_tweets[:,1]"
      ],
      "execution_count": 73,
      "outputs": []
    },
    {
      "cell_type": "code",
      "metadata": {
        "colab": {
          "base_uri": "https://localhost:8080/",
          "height": 35
        },
        "id": "ZLOx-ajSyZ9X",
        "outputId": "3dafa438-2471-4bcf-90a5-6def912e1b20"
      },
      "source": [
        "data_tweets.sort_values('dem_probability')['tweet'].iloc[-1]"
      ],
      "execution_count": 77,
      "outputs": [
        {
          "output_type": "execute_result",
          "data": {
            "application/vnd.google.colaboratory.intrinsic+json": {
              "type": "string"
            },
            "text/plain": [
              "'\"President Trump has Jewish grandchildren\" is the new \"I have black friends\". #PresidentialDebate2020'"
            ]
          },
          "metadata": {},
          "execution_count": 77
        }
      ]
    },
    {
      "cell_type": "code",
      "metadata": {
        "id": "eR9lS5gOyn6z"
      },
      "source": [
        ""
      ],
      "execution_count": null,
      "outputs": []
    }
  ]
}